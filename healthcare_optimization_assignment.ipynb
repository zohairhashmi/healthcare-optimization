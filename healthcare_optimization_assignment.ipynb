{
 "cells": [
  {
   "cell_type": "markdown",
   "metadata": {},
   "source": [
    "# HEALTHCARE OPTIMIZATION\n",
    "### Zohair Hashmi"
   ]
  },
  {
   "cell_type": "markdown",
   "metadata": {},
   "source": [
    "The Washington State Health Ministry would like to optimally upgrade staff or resources in existing facilities across Washington so that they can allocate resources to where they are most needed, based on demand for services in different geographic regions/areas.\n",
    "To address this problem, the health ministry needs to: <br>\n",
    "\n",
    "• Make services more accessible by allocating resources to where they are most needed; increasing capacity in some facilities and decreasing capacity in others. <br>\n",
    "• Minimize people’s travel time so that they only travel to their nearby facility. \n",
    "\n",
    "##### INTRODUCTION: \n",
    "\n",
    "In the state of Washington we are provided with 5 healthcare facilities in the cities of Bellevue, Seattle, Snohomish, Snoqualmie and Wenatchee. Each of these facility tends to povide healthcare to the population residing nearby. Now, these facilities are either overstaffed or understaffed to serve the population. This tends to raise a concern for people living in areas nearby as they often have to travel to a far off facility to get their healthcare done. <br>\n",
    "Therefore, to facilitate the patients some of the staff needs to be relocated. There are two things that need to be considered before relocation. <br>\n",
    "1. Staff to patients ratio should be approximately 1/2808.\n",
    "2. Relocation needs to be done in a way that people travel to the facility closest to them in terms of travel time."
   ]
  },
  {
   "cell_type": "markdown",
   "metadata": {},
   "source": [
    "-----------------------------------------------------------------"
   ]
  },
  {
   "cell_type": "code",
   "execution_count": 3,
   "metadata": {},
   "outputs": [
    {
     "name": "stdout",
     "output_type": "stream",
     "text": [
      "Solving environment: done\n",
      "\n",
      "\n",
      "==> WARNING: A newer version of conda exists. <==\n",
      "  current version: 4.5.11\n",
      "  latest version: 4.7.12\n",
      "\n",
      "Please update conda by running\n",
      "\n",
      "    $ conda update -n base -c defaults conda\n",
      "\n",
      "\n",
      "\n",
      "## Package Plan ##\n",
      "\n",
      "  environment location: /home/jupyterlab/conda/envs/python\n",
      "\n",
      "  added / updated specs: \n",
      "    - folium=0.5.0\n",
      "\n",
      "\n",
      "The following packages will be downloaded:\n",
      "\n",
      "    package                    |            build\n",
      "    ---------------------------|-----------------\n",
      "    scikit-learn-0.20.1        |   py36h22eb022_0         5.7 MB\n",
      "    certifi-2019.11.28         |           py36_0         149 KB  conda-forge\n",
      "    liblapack-3.8.0            |      11_openblas          10 KB  conda-forge\n",
      "    scipy-1.3.2                |   py36h921218d_0        18.0 MB  conda-forge\n",
      "    libopenblas-0.3.6          |       h5a2b251_2         7.7 MB\n",
      "    liblapacke-3.8.0           |      11_openblas          10 KB  conda-forge\n",
      "    numpy-1.17.3               |   py36h95a1406_0         5.2 MB  conda-forge\n",
      "    libcblas-3.8.0             |      11_openblas          10 KB  conda-forge\n",
      "    libblas-3.8.0              |      11_openblas          10 KB  conda-forge\n",
      "    blas-2.11                  |         openblas          10 KB  conda-forge\n",
      "    ------------------------------------------------------------\n",
      "                                           Total:        36.8 MB\n",
      "\n",
      "The following NEW packages will be INSTALLED:\n",
      "\n",
      "    libblas:      3.8.0-11_openblas                      conda-forge\n",
      "    libcblas:     3.8.0-11_openblas                      conda-forge\n",
      "    liblapack:    3.8.0-11_openblas                      conda-forge\n",
      "    liblapacke:   3.8.0-11_openblas                      conda-forge\n",
      "    libopenblas:  0.3.6-h5a2b251_2                                  \n",
      "\n",
      "The following packages will be UPDATED:\n",
      "\n",
      "    blas:         1.1-openblas                           conda-forge --> 2.11-openblas         conda-forge\n",
      "    certifi:      2019.9.11-py36_0                       conda-forge --> 2019.11.28-py36_0     conda-forge\n",
      "    numpy:        1.16.2-py36_blas_openblash1522bff_0    conda-forge [blas_openblas] --> 1.17.3-py36h95a1406_0 conda-forge\n",
      "    scipy:        1.2.1-py36_blas_openblash1522bff_0     conda-forge [blas_openblas] --> 1.3.2-py36h921218d_0  conda-forge\n",
      "\n",
      "The following packages will be DOWNGRADED:\n",
      "\n",
      "    scikit-learn: 0.20.1-py36_blas_openblashebff5e3_1200 conda-forge [blas_openblas] --> 0.20.1-py36h22eb022_0            \n",
      "\n",
      "\n",
      "Downloading and Extracting Packages\n",
      "scikit-learn-0.20.1  | 5.7 MB    | ##################################### | 100% \n",
      "certifi-2019.11.28   | 149 KB    | ##################################### | 100% \n",
      "liblapack-3.8.0      | 10 KB     | ##################################### | 100% \n",
      "scipy-1.3.2          | 18.0 MB   | ##################################### | 100% \n",
      "libopenblas-0.3.6    | 7.7 MB    | ##################################### | 100% \n",
      "liblapacke-3.8.0     | 10 KB     | ##################################### | 100% \n",
      "numpy-1.17.3         | 5.2 MB    | ##################################### | 100% \n",
      "libcblas-3.8.0       | 10 KB     | ##################################### | 100% \n",
      "libblas-3.8.0        | 10 KB     | ##################################### | 100% \n",
      "blas-2.11            | 10 KB     | ##################################### | 100% \n",
      "Preparing transaction: done\n",
      "Verifying transaction: done\n",
      "Executing transaction: done\n",
      "Folium installed and imported!\n"
     ]
    }
   ],
   "source": [
    "# install and import folium to plot maps.\n",
    "! conda install -c conda-forge folium=0.5.0 --yes\n",
    "import folium\n",
    "\n",
    "print('Folium installed and imported!')"
   ]
  },
  {
   "cell_type": "markdown",
   "metadata": {},
   "source": [
    "Initially we download the database for Washington state that contains the zip codes and their corresponding locations and estimated population for the year 2015. To extract the most recent population data available we can resort to US govt's census api available, but given that unitedstateszipcodes.com returns a complete dataset for the population in 2015 (for each respective zip code), I will use this data instead of the extracting data from US govt's census api that is incomplete. <br>\n",
    "To download zip codes and location information we use database available on https://www.unitedstateszipcodes.org/zip-code-database/\n"
   ]
  },
  {
   "cell_type": "code",
   "execution_count": 1,
   "metadata": {},
   "outputs": [],
   "source": [
    "import requests\n",
    "import pandas as pd\n",
    "import numpy as np\n",
    "import matplotlib.pyplot as plt"
   ]
  },
  {
   "cell_type": "markdown",
   "metadata": {},
   "source": [
    "The following code uploads the database and converts it into a dataframe using pandas."
   ]
  },
  {
   "cell_type": "code",
   "execution_count": 2,
   "metadata": {},
   "outputs": [
    {
     "data": {
      "text/html": [
       "<div>\n",
       "<style scoped>\n",
       "    .dataframe tbody tr th:only-of-type {\n",
       "        vertical-align: middle;\n",
       "    }\n",
       "\n",
       "    .dataframe tbody tr th {\n",
       "        vertical-align: top;\n",
       "    }\n",
       "\n",
       "    .dataframe thead th {\n",
       "        text-align: right;\n",
       "    }\n",
       "</style>\n",
       "<table border=\"1\" class=\"dataframe\">\n",
       "  <thead>\n",
       "    <tr style=\"text-align: right;\">\n",
       "      <th></th>\n",
       "      <th>zip</th>\n",
       "      <th>type</th>\n",
       "      <th>decommissioned</th>\n",
       "      <th>primary_city</th>\n",
       "      <th>acceptable_cities</th>\n",
       "      <th>unacceptable_cities</th>\n",
       "      <th>state</th>\n",
       "      <th>county</th>\n",
       "      <th>timezone</th>\n",
       "      <th>area_codes</th>\n",
       "      <th>world_region</th>\n",
       "      <th>country</th>\n",
       "      <th>latitude</th>\n",
       "      <th>longitude</th>\n",
       "      <th>irs_estimated_population_2015</th>\n",
       "    </tr>\n",
       "  </thead>\n",
       "  <tbody>\n",
       "    <tr>\n",
       "      <th>0</th>\n",
       "      <td>501</td>\n",
       "      <td>UNIQUE</td>\n",
       "      <td>0</td>\n",
       "      <td>Holtsville</td>\n",
       "      <td>NaN</td>\n",
       "      <td>I R S Service Center</td>\n",
       "      <td>NY</td>\n",
       "      <td>Suffolk County</td>\n",
       "      <td>America/New_York</td>\n",
       "      <td>631</td>\n",
       "      <td>NaN</td>\n",
       "      <td>US</td>\n",
       "      <td>40.81</td>\n",
       "      <td>-73.04</td>\n",
       "      <td>562</td>\n",
       "    </tr>\n",
       "    <tr>\n",
       "      <th>1</th>\n",
       "      <td>544</td>\n",
       "      <td>UNIQUE</td>\n",
       "      <td>0</td>\n",
       "      <td>Holtsville</td>\n",
       "      <td>NaN</td>\n",
       "      <td>Irs Service Center</td>\n",
       "      <td>NY</td>\n",
       "      <td>Suffolk County</td>\n",
       "      <td>America/New_York</td>\n",
       "      <td>631</td>\n",
       "      <td>NaN</td>\n",
       "      <td>US</td>\n",
       "      <td>40.81</td>\n",
       "      <td>-73.04</td>\n",
       "      <td>0</td>\n",
       "    </tr>\n",
       "    <tr>\n",
       "      <th>2</th>\n",
       "      <td>601</td>\n",
       "      <td>STANDARD</td>\n",
       "      <td>0</td>\n",
       "      <td>Adjuntas</td>\n",
       "      <td>NaN</td>\n",
       "      <td>Colinas Del Gigante, Jard De Adjuntas, Urb San...</td>\n",
       "      <td>PR</td>\n",
       "      <td>Adjuntas Municipio</td>\n",
       "      <td>America/Puerto_Rico</td>\n",
       "      <td>787,939</td>\n",
       "      <td>NaN</td>\n",
       "      <td>US</td>\n",
       "      <td>18.16</td>\n",
       "      <td>-66.72</td>\n",
       "      <td>0</td>\n",
       "    </tr>\n",
       "    <tr>\n",
       "      <th>3</th>\n",
       "      <td>602</td>\n",
       "      <td>STANDARD</td>\n",
       "      <td>0</td>\n",
       "      <td>Aguada</td>\n",
       "      <td>NaN</td>\n",
       "      <td>Alts De Aguada, Bo Guaniquilla, Comunidad Las ...</td>\n",
       "      <td>PR</td>\n",
       "      <td>Aguada Municipio</td>\n",
       "      <td>America/Puerto_Rico</td>\n",
       "      <td>787,939</td>\n",
       "      <td>NaN</td>\n",
       "      <td>US</td>\n",
       "      <td>18.38</td>\n",
       "      <td>-67.18</td>\n",
       "      <td>0</td>\n",
       "    </tr>\n",
       "    <tr>\n",
       "      <th>4</th>\n",
       "      <td>603</td>\n",
       "      <td>STANDARD</td>\n",
       "      <td>0</td>\n",
       "      <td>Aguadilla</td>\n",
       "      <td>Ramey</td>\n",
       "      <td>Bda Caban, Bda Esteves, Bo Borinquen, Bo Ceiba...</td>\n",
       "      <td>PR</td>\n",
       "      <td>Aguadilla Municipio</td>\n",
       "      <td>America/Puerto_Rico</td>\n",
       "      <td>787</td>\n",
       "      <td>NaN</td>\n",
       "      <td>US</td>\n",
       "      <td>18.43</td>\n",
       "      <td>-67.15</td>\n",
       "      <td>0</td>\n",
       "    </tr>\n",
       "  </tbody>\n",
       "</table>\n",
       "</div>"
      ],
      "text/plain": [
       "   zip      type  decommissioned primary_city acceptable_cities  \\\n",
       "0  501    UNIQUE               0   Holtsville               NaN   \n",
       "1  544    UNIQUE               0   Holtsville               NaN   \n",
       "2  601  STANDARD               0     Adjuntas               NaN   \n",
       "3  602  STANDARD               0       Aguada               NaN   \n",
       "4  603  STANDARD               0    Aguadilla             Ramey   \n",
       "\n",
       "                                 unacceptable_cities state  \\\n",
       "0                               I R S Service Center    NY   \n",
       "1                                 Irs Service Center    NY   \n",
       "2  Colinas Del Gigante, Jard De Adjuntas, Urb San...    PR   \n",
       "3  Alts De Aguada, Bo Guaniquilla, Comunidad Las ...    PR   \n",
       "4  Bda Caban, Bda Esteves, Bo Borinquen, Bo Ceiba...    PR   \n",
       "\n",
       "                county             timezone area_codes world_region country  \\\n",
       "0       Suffolk County     America/New_York        631          NaN      US   \n",
       "1       Suffolk County     America/New_York        631          NaN      US   \n",
       "2   Adjuntas Municipio  America/Puerto_Rico    787,939          NaN      US   \n",
       "3     Aguada Municipio  America/Puerto_Rico    787,939          NaN      US   \n",
       "4  Aguadilla Municipio  America/Puerto_Rico        787          NaN      US   \n",
       "\n",
       "   latitude  longitude  irs_estimated_population_2015  \n",
       "0     40.81     -73.04                            562  \n",
       "1     40.81     -73.04                              0  \n",
       "2     18.16     -66.72                              0  \n",
       "3     18.38     -67.18                              0  \n",
       "4     18.43     -67.15                              0  "
      ]
     },
     "execution_count": 2,
     "metadata": {},
     "output_type": "execute_result"
    }
   ],
   "source": [
    "df = pd.read_csv('zip_code_database.csv')\n",
    "df.head()"
   ]
  },
  {
   "cell_type": "markdown",
   "metadata": {},
   "source": [
    "Since, we are already provided with the zipcodes for the facility areas, we can use these to return the city names for each zip code. <br>"
   ]
  },
  {
   "cell_type": "code",
   "execution_count": 3,
   "metadata": {
    "jupyter": {
     "source_hidden": true
    }
   },
   "outputs": [
    {
     "data": {
      "image/png": "[encoded data removed]",
      "text/plain": [
       "<IPython.core.display.Image object>"
      ]
     },
     "metadata": {
      "image/png": {
       "width": 1900
      }
     },
     "output_type": "display_data"
    }
   ],
   "source": [
    "from IPython.core.display import Image, display\n",
    "display(Image('table.png', width=1900, unconfined=False))"
   ]
  },
  {
   "cell_type": "code",
   "execution_count": 4,
   "metadata": {},
   "outputs": [
    {
     "data": {
      "text/plain": [
       "['Bellevue', 'Snohomish', 'Snoqualmie', 'Wenatchee', 'Seattle']"
      ]
     },
     "execution_count": 4,
     "metadata": {},
     "output_type": "execute_result"
    }
   ],
   "source": [
    "# ZIPCODE API\n",
    "zipcodes = [98007,98290,98065,98801,98104]\n",
    "cities = []\n",
    "for z in range(len(zipcodes)):\n",
    "    cities.append(df[df['zip']==zipcodes[z]]['primary_city'].values.tolist())\n",
    "cities = [cities[0][0],cities[1][0],cities[2][0],cities[3][0],cities[4][0]]\n",
    "cities"
   ]
  },
  {
   "cell_type": "markdown",
   "metadata": {},
   "source": [
    "Now, we need to extract the zip codes located in each city in order to identify the areas nearby, the populations of which use the health-care facilities available in zones A-E."
   ]
  },
  {
   "cell_type": "code",
   "execution_count": 5,
   "metadata": {},
   "outputs": [
    {
     "name": "stdout",
     "output_type": "stream",
     "text": [
      "(77, 15)\n",
      "     zip primary_city state  latitude  longitude  population_15\n",
      "0  98004     Bellevue    WA     47.61    -122.21          31250\n",
      "1  98005     Bellevue    WA     47.62    -122.16          18860\n",
      "2  98006     Bellevue    WA     47.55    -122.14          39630\n",
      "3  98007     Bellevue    WA     47.62    -122.14          26280\n",
      "4  98008     Bellevue    WA     47.60    -122.11          25120\n",
      "(77, 6)\n"
     ]
    }
   ],
   "source": [
    "areas = []\n",
    "df_areas = pd.DataFrame()\n",
    "df_areas = df[df['primary_city'] == cities[0]]\n",
    "df_areas = df_areas.append(df[df['primary_city'] == cities[1]])\n",
    "df_areas = df_areas.append(df[df['primary_city'] == cities[2]])\n",
    "df_areas = df_areas.append(df[df['primary_city'] == cities[3]])\n",
    "df_areas = df_areas.append(df[df['primary_city'] == cities[4]])\n",
    "df_areas = df_areas.rename(columns = {'irs_estimated_population_2015':'population_15'})\n",
    "df_areas = df_areas[df_areas['state']=='WA']\n",
    "print(df_areas.shape)\n",
    "\n",
    "#removing unnecessary columns from the dataframe\n",
    "df_areas = df_areas.reset_index()\n",
    "df_areas = df_areas.drop(columns=['decommissioned','acceptable_cities','unacceptable_cities','county','timezone','area_codes','world_region','country','type','index'])\n",
    "\n",
    "print(df_areas.head())\n",
    "print(df_areas.shape)"
   ]
  },
  {
   "cell_type": "markdown",
   "metadata": {},
   "source": [
    "We will use the data from the dataframe above to derive a dataframe tabulating only the zip codes having the five facilities."
   ]
  },
  {
   "cell_type": "code",
   "execution_count": 6,
   "metadata": {},
   "outputs": [
    {
     "name": "stdout",
     "output_type": "stream",
     "text": [
      "     zip primary_city state  latitude  longitude  staff_count\n",
      "0  98007     Bellevue    WA     47.62    -122.14           21\n",
      "1  98290    Snohomish    WA     47.94    -122.00           52\n",
      "2  98065   Snoqualmie    WA     47.53    -121.80           43\n",
      "3  98801    Wenatchee    WA     47.37    -120.35            9\n",
      "4  98104      Seattle    WA     47.60    -122.32           64\n"
     ]
    }
   ],
   "source": [
    "facility = []\n",
    "df_facility = pd.DataFrame()\n",
    "for z in range(len(zipcodes)):\n",
    "    df_facility = df_facility.append(df_areas[df_areas['zip'] == zipcodes[z]])\n",
    "\n",
    "df_facility = df_facility.reset_index().drop(columns=['population_15','index'])\n",
    "df_facility['staff_count'] = [21,52,43,9,64]\n",
    "print(df_facility)"
   ]
  },
  {
   "cell_type": "code",
   "execution_count": 7,
   "metadata": {},
   "outputs": [],
   "source": [
    "#converting latitudes and longitudes into lists in order to plot on a folium map\n",
    "\n",
    "latitudes = df_areas['latitude'].values.tolist()\n",
    "longitudes = df_areas['longitude'].values.tolist()\n",
    "\n",
    "fac_lat = df_facility['latitude'].values.tolist()\n",
    "fac_lng = df_facility['longitude'].values.tolist()"
   ]
  },
  {
   "cell_type": "markdown",
   "metadata": {},
   "source": [
    "### Visualizing the map"
   ]
  },
  {
   "cell_type": "code",
   "execution_count": 17,
   "metadata": {
    "scrolled": true
   },
   "outputs": [
    {
     "data": {
      "text/html": [
       "<div style=\"width:100%;\"><div style=\"position:relative;width:100%;height:0;padding-bottom:60%;\"><iframe src=\"data:text/html;charset=utf-8;base64,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\" style=\"position:absolute;width:100%;height:100%;left:0;top:0;border:none !important;\" allowfullscreen webkitallowfullscreen mozallowfullscreen></iframe></div></div>"
      ],
      "text/plain": [
       "<folium.folium.Map at 0x7f53c954ce10>"
      ]
     },
     "execution_count": 17,
     "metadata": {},
     "output_type": "execute_result"
    }
   ],
   "source": [
    "# ---------- plot map\n",
    "\n",
    "#define the world map\n",
    "world_map = folium.Map()\n",
    "\n",
    "# define the world map centered around Washington with a higher zoom level\n",
    "washington_map = folium.Map(location=[47.6062, -122.3321], zoom_start=8)\n",
    "\n",
    "for lat, lng in zip(latitudes, longitudes):\n",
    "    folium.Marker(\n",
    "        location = [lat, lng],\n",
    "        icon=folium.Icon(color='blue')\n",
    "    ).add_to(washington_map)\n",
    "\n",
    "for lat, lng in zip(fac_lat, fac_lng):\n",
    "    folium.Marker(\n",
    "        location = [lat, lng],\n",
    "        icon=folium.Icon(color='red')\n",
    "    ).add_to(washington_map)\n",
    "\n",
    "# display world map\n",
    "washington_map"
   ]
  },
  {
   "cell_type": "markdown",
   "metadata": {},
   "source": [
    "### Travel time extraction using HERE api\n",
    "\n",
    "HERE API easisly provides travel time difference between two points, which is an important metric for us. We need to provide origin and destination coordinates to our requested url of HERE's Routing API.\n",
    "<\\n> In the following code:\n",
    " - fac_lat and fac_lng are facility coordinates, converted into strings and used as destination coordinates for calculating travel time.\n",
    " - latitudes and longitudes are nearby area coordinates, converted into strings and used as origin coordinates for calculating travel time.\n"
   ]
  },
  {
   "cell_type": "code",
   "execution_count": 9,
   "metadata": {},
   "outputs": [
    {
     "name": "stdout",
     "output_type": "stream",
     "text": [
      "[[817, 331, 1211, 0, 543, 688, 688, 2694, 2390, 1766, 2031, 9812, 10927, 1139, 1048, 1268, 1255, 1145, 1942, 1672, 1562, 1140, 1139, 1322, 1139, 1351, 1468, 1853, 1716, 1807, 1439, 1270, 1344, 1427, 1434, 1699, 1139, 1139, 1565, 1565, 1544, 1427, 2009, 1584, 1139, 1139, 1216, 1048, 2096, 1869, 1251, 1139, 1792, 1927, 1950, 1251, 1139, 1139, 2086, 1794, 1139, 1251, 1438, 1139, 1901, 1632, 1139, 1251, 1145, 1719, 1717, 1669, 1139, 1139, 1048, 2103, 1844], [2758, 2773, 3163, 2789, 3063, 2637, 2637, 0, 698, 1479, 3895, 9530, 10645, 3066, 2970, 2858, 3244, 3067, 3861, 3287, 3481, 3031, 3066, 3244, 3066, 3340, 3094, 3772, 3172, 3728, 3330, 3161, 3266, 3350, 2845, 3618, 3066, 3066, 3521, 3521, 2577, 3350, 3928, 3540, 3066, 3066, 3205, 2970, 4052, 3825, 3178, 3066, 2573, 3883, 2787, 3178, 3066, 3066, 4042, 3750, 3066, 3178, 3369, 3066, 2967, 3588, 3066, 3178, 3067, 3675, 3673, 3612, 3066, 3066, 2970, 4059, 3735], [2073, 2089, 1970, 1955, 1752, 1930, 1930, 3879, 3800, 3176, 0, 8921, 10036, 2264, 2509, 2736, 2236, 2611, 2923, 3086, 2543, 2454, 2264, 2788, 2264, 2332, 2934, 2834, 3184, 2788, 2753, 2584, 2434, 2408, 2902, 2680, 2264, 2264, 2546, 2546, 3012, 2408, 2990, 2565, 2264, 2264, 2197, 2514, 3077, 2850, 2340, 2264, 3202, 2908, 3418, 2340, 2264, 2264, 3067, 2775, 2264, 2340, 2419, 2264, 3369, 2613, 2264, 2340, 2611, 2700, 2698, 2650, 2264, 2264, 2514, 3084, 3158], [9920, 9936, 9817, 9802, 9599, 9777, 9777, 9504, 9555, 9481, 8917, 0, 1712, 10111, 10356, 10583, 10083, 10458, 10770, 10933, 10390, 10301, 10111, 10635, 10111, 10179, 10781, 10681, 11031, 10635, 10600, 10431, 10281, 10255, 10749, 10527, 10111, 10111, 10393, 10393, 10859, 10255, 10837, 10412, 10111, 10111, 10044, 10361, 10924, 10697, 10187, 10111, 10520, 10755, 11158, 10187, 10111, 10111, 10914, 10622, 10111, 10187, 10266, 10111, 11216, 10460, 10111, 10187, 10458, 10547, 10545, 10497, 10111, 10111, 10361, 10931, 11005], [1128, 1247, 1325, 1219, 1234, 1030, 1030, 3278, 2927, 2332, 2308, 10089, 11204, 421, 660, 931, 0, 965, 1121, 1281, 859, 649, 421, 872, 421, 404, 1185, 1083, 1379, 992, 954, 642, 426, 570, 1097, 929, 421, 421, 1229, 1229, 1207, 570, 1239, 1181, 421, 421, 401, 868, 1371, 1476, 279, 421, 1454, 1340, 1613, 279, 421, 421, 1490, 1249, 421, 279, 428, 421, 1564, 1152, 421, 279, 965, 1338, 1501, 990, 421, 421, 868, 1722, 1276]]\n"
     ]
    }
   ],
   "source": [
    "#extracting travel time between each locality and all the 5 respective facilities (A-E)\n",
    "\n",
    "duration = []\n",
    "dest_lat = list(map(str,fac_lat))\n",
    "dest_lng = list(map(str,fac_lng))\n",
    "org_lat = list(map(str,latitudes))\n",
    "org_lng = list(map(str,longitudes))\n",
    "\n",
    "for d_lat,d_lng in zip(dest_lat,dest_lng):\n",
    "    traveltime = []\n",
    "    for o_lat,o_lng in zip(org_lat,org_lng):\n",
    "        url = 'https://route.api.here.com/routing/7.2/calculateroute.json?app_id=H3h4oogZ3viIMirIDaoC&app_code=ubnLgHI_DnlRppv-jeaWag&waypoint0=geo!' + d_lat +',' + d_lng +'&waypoint1=geo!' + o_lat + ',' + o_lng + '&mode=fastest;car;traffic:disabled'\n",
    "        r = requests.get(url)\n",
    "        traveltime.append(r.json()['response']['route'][0]['summary']['travelTime'])\n",
    "    duration.append(traveltime)\n",
    "        \n",
    "print(duration)"
   ]
  },
  {
   "cell_type": "markdown",
   "metadata": {},
   "source": [
    "Let's save the travel time durations obtained into a csv file."
   ]
  },
  {
   "cell_type": "code",
   "execution_count": 10,
   "metadata": {},
   "outputs": [],
   "source": [
    "import csv\n",
    "\n",
    "with open('duration_data.csv', 'w', newline='') as myfile:\n",
    "    wr = csv.writer(myfile, quoting=csv.QUOTE_ALL, delimiter=',')\n",
    "    wr.writerow(duration)"
   ]
  },
  {
   "cell_type": "markdown",
   "metadata": {},
   "source": [
    "- Now, we can merge the two dataframes (df_areas & df_time) into a single dataframe.\n",
    "- HERE API returns travel time in seconds so it needs to be converted into hours for better relatabillity of this metric. We divide each of the column A B C D and E with 3600, since one hour has 3600 seconds."
   ]
  },
  {
   "cell_type": "code",
   "execution_count": 11,
   "metadata": {},
   "outputs": [
    {
     "data": {
      "text/html": [
       "<div>\n",
       "<style scoped>\n",
       "    .dataframe tbody tr th:only-of-type {\n",
       "        vertical-align: middle;\n",
       "    }\n",
       "\n",
       "    .dataframe tbody tr th {\n",
       "        vertical-align: top;\n",
       "    }\n",
       "\n",
       "    .dataframe thead th {\n",
       "        text-align: right;\n",
       "    }\n",
       "</style>\n",
       "<table border=\"1\" class=\"dataframe\">\n",
       "  <thead>\n",
       "    <tr style=\"text-align: right;\">\n",
       "      <th></th>\n",
       "      <th>zip</th>\n",
       "      <th>primary_city</th>\n",
       "      <th>state</th>\n",
       "      <th>latitude</th>\n",
       "      <th>longitude</th>\n",
       "      <th>population_15</th>\n",
       "      <th>A</th>\n",
       "      <th>B</th>\n",
       "      <th>C</th>\n",
       "      <th>D</th>\n",
       "      <th>E</th>\n",
       "    </tr>\n",
       "  </thead>\n",
       "  <tbody>\n",
       "    <tr>\n",
       "      <th>0</th>\n",
       "      <td>98004</td>\n",
       "      <td>Bellevue</td>\n",
       "      <td>WA</td>\n",
       "      <td>47.61</td>\n",
       "      <td>-122.21</td>\n",
       "      <td>18750.0</td>\n",
       "      <td>0.226944</td>\n",
       "      <td>0.766111</td>\n",
       "      <td>0.575833</td>\n",
       "      <td>2.755556</td>\n",
       "      <td>0.313333</td>\n",
       "    </tr>\n",
       "    <tr>\n",
       "      <th>1</th>\n",
       "      <td>98005</td>\n",
       "      <td>Bellevue</td>\n",
       "      <td>WA</td>\n",
       "      <td>47.62</td>\n",
       "      <td>-122.16</td>\n",
       "      <td>11316.0</td>\n",
       "      <td>0.091944</td>\n",
       "      <td>0.770278</td>\n",
       "      <td>0.580278</td>\n",
       "      <td>2.760000</td>\n",
       "      <td>0.346389</td>\n",
       "    </tr>\n",
       "    <tr>\n",
       "      <th>2</th>\n",
       "      <td>98006</td>\n",
       "      <td>Bellevue</td>\n",
       "      <td>WA</td>\n",
       "      <td>47.55</td>\n",
       "      <td>-122.14</td>\n",
       "      <td>23778.0</td>\n",
       "      <td>0.336389</td>\n",
       "      <td>0.878611</td>\n",
       "      <td>0.547222</td>\n",
       "      <td>2.726944</td>\n",
       "      <td>0.368056</td>\n",
       "    </tr>\n",
       "    <tr>\n",
       "      <th>3</th>\n",
       "      <td>98007</td>\n",
       "      <td>Bellevue</td>\n",
       "      <td>WA</td>\n",
       "      <td>47.62</td>\n",
       "      <td>-122.14</td>\n",
       "      <td>15768.0</td>\n",
       "      <td>0.000000</td>\n",
       "      <td>0.774722</td>\n",
       "      <td>0.543056</td>\n",
       "      <td>2.722778</td>\n",
       "      <td>0.338611</td>\n",
       "    </tr>\n",
       "    <tr>\n",
       "      <th>4</th>\n",
       "      <td>98008</td>\n",
       "      <td>Bellevue</td>\n",
       "      <td>WA</td>\n",
       "      <td>47.60</td>\n",
       "      <td>-122.11</td>\n",
       "      <td>15072.0</td>\n",
       "      <td>0.150833</td>\n",
       "      <td>0.850833</td>\n",
       "      <td>0.486667</td>\n",
       "      <td>2.666389</td>\n",
       "      <td>0.342778</td>\n",
       "    </tr>\n",
       "  </tbody>\n",
       "</table>\n",
       "</div>"
      ],
      "text/plain": [
       "     zip primary_city state  latitude  longitude  population_15         A  \\\n",
       "0  98004     Bellevue    WA     47.61    -122.21        18750.0  0.226944   \n",
       "1  98005     Bellevue    WA     47.62    -122.16        11316.0  0.091944   \n",
       "2  98006     Bellevue    WA     47.55    -122.14        23778.0  0.336389   \n",
       "3  98007     Bellevue    WA     47.62    -122.14        15768.0  0.000000   \n",
       "4  98008     Bellevue    WA     47.60    -122.11        15072.0  0.150833   \n",
       "\n",
       "          B         C         D         E  \n",
       "0  0.766111  0.575833  2.755556  0.313333  \n",
       "1  0.770278  0.580278  2.760000  0.346389  \n",
       "2  0.878611  0.547222  2.726944  0.368056  \n",
       "3  0.774722  0.543056  2.722778  0.338611  \n",
       "4  0.850833  0.486667  2.666389  0.342778  "
      ]
     },
     "execution_count": 11,
     "metadata": {},
     "output_type": "execute_result"
    }
   ],
   "source": [
    "df_time = pd.DataFrame(duration)\n",
    "df_time = df_time.transpose()\n",
    "df_time = df_time.rename(columns={0:'A',1:'B',2:'C',3:'D',4:'E'})\n",
    "df_data = df_areas.join(df_time)\n",
    "\n",
    "#change seconds into hours\n",
    "df_data.update(df_data['A']/3600)\n",
    "df_data.update(df_data['B']/3600)\n",
    "df_data.update(df_data['C']/3600)\n",
    "df_data.update(df_data['D']/3600)\n",
    "df_data.update(df_data['E']/3600)\n",
    "\n",
    "#use 60 % of population count only\n",
    "df_data.update(df_data['population_15']*0.6)\n",
    "\n",
    "df_data.head()"
   ]
  },
  {
   "cell_type": "markdown",
   "metadata": {},
   "source": [
    "Let's label each location to it's closest facility where the population of that location would prefer to head to in case of a healthcare need."
   ]
  },
  {
   "cell_type": "code",
   "execution_count": 12,
   "metadata": {
    "scrolled": true
   },
   "outputs": [
    {
     "name": "stderr",
     "output_type": "stream",
     "text": [
      "/home/jupyterlab/conda/envs/python/lib/python3.6/site-packages/ipykernel_launcher.py:5: SettingWithCopyWarning: \n",
      "A value is trying to be set on a copy of a slice from a DataFrame\n",
      "\n",
      "See the caveats in the documentation: http://pandas.pydata.org/pandas-docs/stable/user_guide/indexing.html#returning-a-view-versus-a-copy\n",
      "  \"\"\"\n",
      "/home/jupyterlab/conda/envs/python/lib/python3.6/site-packages/ipykernel_launcher.py:7: SettingWithCopyWarning: \n",
      "A value is trying to be set on a copy of a slice from a DataFrame\n",
      "\n",
      "See the caveats in the documentation: http://pandas.pydata.org/pandas-docs/stable/user_guide/indexing.html#returning-a-view-versus-a-copy\n",
      "  import sys\n",
      "/home/jupyterlab/conda/envs/python/lib/python3.6/site-packages/ipykernel_launcher.py:9: SettingWithCopyWarning: \n",
      "A value is trying to be set on a copy of a slice from a DataFrame\n",
      "\n",
      "See the caveats in the documentation: http://pandas.pydata.org/pandas-docs/stable/user_guide/indexing.html#returning-a-view-versus-a-copy\n",
      "  if __name__ == '__main__':\n",
      "/home/jupyterlab/conda/envs/python/lib/python3.6/site-packages/ipykernel_launcher.py:11: SettingWithCopyWarning: \n",
      "A value is trying to be set on a copy of a slice from a DataFrame\n",
      "\n",
      "See the caveats in the documentation: http://pandas.pydata.org/pandas-docs/stable/user_guide/indexing.html#returning-a-view-versus-a-copy\n",
      "  # This is added back by InteractiveShellApp.init_path()\n",
      "/home/jupyterlab/conda/envs/python/lib/python3.6/site-packages/ipykernel_launcher.py:13: SettingWithCopyWarning: \n",
      "A value is trying to be set on a copy of a slice from a DataFrame\n",
      "\n",
      "See the caveats in the documentation: http://pandas.pydata.org/pandas-docs/stable/user_guide/indexing.html#returning-a-view-versus-a-copy\n",
      "  del sys.path[0]\n"
     ]
    },
    {
     "data": {
      "text/html": [
       "<div>\n",
       "<style scoped>\n",
       "    .dataframe tbody tr th:only-of-type {\n",
       "        vertical-align: middle;\n",
       "    }\n",
       "\n",
       "    .dataframe tbody tr th {\n",
       "        vertical-align: top;\n",
       "    }\n",
       "\n",
       "    .dataframe thead th {\n",
       "        text-align: right;\n",
       "    }\n",
       "</style>\n",
       "<table border=\"1\" class=\"dataframe\">\n",
       "  <thead>\n",
       "    <tr style=\"text-align: right;\">\n",
       "      <th></th>\n",
       "      <th>zip</th>\n",
       "      <th>primary_city</th>\n",
       "      <th>state</th>\n",
       "      <th>latitude</th>\n",
       "      <th>longitude</th>\n",
       "      <th>population_15</th>\n",
       "      <th>A</th>\n",
       "      <th>B</th>\n",
       "      <th>C</th>\n",
       "      <th>D</th>\n",
       "      <th>E</th>\n",
       "      <th>closest_facility</th>\n",
       "    </tr>\n",
       "  </thead>\n",
       "  <tbody>\n",
       "    <tr>\n",
       "      <th>0</th>\n",
       "      <td>98004</td>\n",
       "      <td>Bellevue</td>\n",
       "      <td>WA</td>\n",
       "      <td>47.61</td>\n",
       "      <td>-122.21</td>\n",
       "      <td>18750.0</td>\n",
       "      <td>0.226944</td>\n",
       "      <td>0.766111</td>\n",
       "      <td>0.575833</td>\n",
       "      <td>2.755556</td>\n",
       "      <td>0.313333</td>\n",
       "      <td>A</td>\n",
       "    </tr>\n",
       "    <tr>\n",
       "      <th>1</th>\n",
       "      <td>98005</td>\n",
       "      <td>Bellevue</td>\n",
       "      <td>WA</td>\n",
       "      <td>47.62</td>\n",
       "      <td>-122.16</td>\n",
       "      <td>11316.0</td>\n",
       "      <td>0.091944</td>\n",
       "      <td>0.770278</td>\n",
       "      <td>0.580278</td>\n",
       "      <td>2.760000</td>\n",
       "      <td>0.346389</td>\n",
       "      <td>A</td>\n",
       "    </tr>\n",
       "    <tr>\n",
       "      <th>2</th>\n",
       "      <td>98006</td>\n",
       "      <td>Bellevue</td>\n",
       "      <td>WA</td>\n",
       "      <td>47.55</td>\n",
       "      <td>-122.14</td>\n",
       "      <td>23778.0</td>\n",
       "      <td>0.336389</td>\n",
       "      <td>0.878611</td>\n",
       "      <td>0.547222</td>\n",
       "      <td>2.726944</td>\n",
       "      <td>0.368056</td>\n",
       "      <td>A</td>\n",
       "    </tr>\n",
       "    <tr>\n",
       "      <th>3</th>\n",
       "      <td>98007</td>\n",
       "      <td>Bellevue</td>\n",
       "      <td>WA</td>\n",
       "      <td>47.62</td>\n",
       "      <td>-122.14</td>\n",
       "      <td>15768.0</td>\n",
       "      <td>0.000000</td>\n",
       "      <td>0.774722</td>\n",
       "      <td>0.543056</td>\n",
       "      <td>2.722778</td>\n",
       "      <td>0.338611</td>\n",
       "      <td>A</td>\n",
       "    </tr>\n",
       "    <tr>\n",
       "      <th>4</th>\n",
       "      <td>98008</td>\n",
       "      <td>Bellevue</td>\n",
       "      <td>WA</td>\n",
       "      <td>47.60</td>\n",
       "      <td>-122.11</td>\n",
       "      <td>15072.0</td>\n",
       "      <td>0.150833</td>\n",
       "      <td>0.850833</td>\n",
       "      <td>0.486667</td>\n",
       "      <td>2.666389</td>\n",
       "      <td>0.342778</td>\n",
       "      <td>A</td>\n",
       "    </tr>\n",
       "    <tr>\n",
       "      <th>5</th>\n",
       "      <td>98009</td>\n",
       "      <td>Bellevue</td>\n",
       "      <td>WA</td>\n",
       "      <td>47.61</td>\n",
       "      <td>-122.20</td>\n",
       "      <td>839.4</td>\n",
       "      <td>0.191111</td>\n",
       "      <td>0.732500</td>\n",
       "      <td>0.536111</td>\n",
       "      <td>2.715833</td>\n",
       "      <td>0.286111</td>\n",
       "      <td>A</td>\n",
       "    </tr>\n",
       "    <tr>\n",
       "      <th>6</th>\n",
       "      <td>98015</td>\n",
       "      <td>Bellevue</td>\n",
       "      <td>WA</td>\n",
       "      <td>47.61</td>\n",
       "      <td>-122.20</td>\n",
       "      <td>531.6</td>\n",
       "      <td>0.191111</td>\n",
       "      <td>0.732500</td>\n",
       "      <td>0.536111</td>\n",
       "      <td>2.715833</td>\n",
       "      <td>0.286111</td>\n",
       "      <td>A</td>\n",
       "    </tr>\n",
       "    <tr>\n",
       "      <th>7</th>\n",
       "      <td>98290</td>\n",
       "      <td>Snohomish</td>\n",
       "      <td>WA</td>\n",
       "      <td>47.94</td>\n",
       "      <td>-122.00</td>\n",
       "      <td>19050.0</td>\n",
       "      <td>0.748333</td>\n",
       "      <td>0.000000</td>\n",
       "      <td>1.077500</td>\n",
       "      <td>2.640000</td>\n",
       "      <td>0.910556</td>\n",
       "      <td>B</td>\n",
       "    </tr>\n",
       "    <tr>\n",
       "      <th>8</th>\n",
       "      <td>98291</td>\n",
       "      <td>Snohomish</td>\n",
       "      <td>WA</td>\n",
       "      <td>47.92</td>\n",
       "      <td>-122.09</td>\n",
       "      <td>1153.8</td>\n",
       "      <td>0.663889</td>\n",
       "      <td>0.193889</td>\n",
       "      <td>1.055556</td>\n",
       "      <td>2.654167</td>\n",
       "      <td>0.813056</td>\n",
       "      <td>B</td>\n",
       "    </tr>\n",
       "    <tr>\n",
       "      <th>9</th>\n",
       "      <td>98296</td>\n",
       "      <td>Snohomish</td>\n",
       "      <td>WA</td>\n",
       "      <td>47.85</td>\n",
       "      <td>-122.09</td>\n",
       "      <td>15336.0</td>\n",
       "      <td>0.490556</td>\n",
       "      <td>0.410833</td>\n",
       "      <td>0.882222</td>\n",
       "      <td>2.633611</td>\n",
       "      <td>0.647778</td>\n",
       "      <td>B</td>\n",
       "    </tr>\n",
       "  </tbody>\n",
       "</table>\n",
       "</div>"
      ],
      "text/plain": [
       "     zip primary_city state  latitude  longitude  population_15         A  \\\n",
       "0  98004     Bellevue    WA     47.61    -122.21        18750.0  0.226944   \n",
       "1  98005     Bellevue    WA     47.62    -122.16        11316.0  0.091944   \n",
       "2  98006     Bellevue    WA     47.55    -122.14        23778.0  0.336389   \n",
       "3  98007     Bellevue    WA     47.62    -122.14        15768.0  0.000000   \n",
       "4  98008     Bellevue    WA     47.60    -122.11        15072.0  0.150833   \n",
       "5  98009     Bellevue    WA     47.61    -122.20          839.4  0.191111   \n",
       "6  98015     Bellevue    WA     47.61    -122.20          531.6  0.191111   \n",
       "7  98290    Snohomish    WA     47.94    -122.00        19050.0  0.748333   \n",
       "8  98291    Snohomish    WA     47.92    -122.09         1153.8  0.663889   \n",
       "9  98296    Snohomish    WA     47.85    -122.09        15336.0  0.490556   \n",
       "\n",
       "          B         C         D         E closest_facility  \n",
       "0  0.766111  0.575833  2.755556  0.313333                A  \n",
       "1  0.770278  0.580278  2.760000  0.346389                A  \n",
       "2  0.878611  0.547222  2.726944  0.368056                A  \n",
       "3  0.774722  0.543056  2.722778  0.338611                A  \n",
       "4  0.850833  0.486667  2.666389  0.342778                A  \n",
       "5  0.732500  0.536111  2.715833  0.286111                A  \n",
       "6  0.732500  0.536111  2.715833  0.286111                A  \n",
       "7  0.000000  1.077500  2.640000  0.910556                B  \n",
       "8  0.193889  1.055556  2.654167  0.813056                B  \n",
       "9  0.410833  0.882222  2.633611  0.647778                B  "
      ]
     },
     "execution_count": 12,
     "metadata": {},
     "output_type": "execute_result"
    }
   ],
   "source": [
    "\n",
    "df_data['closest_facility']=''\n",
    "for i in range(len(df_data)):\n",
    "    least = min(df_data.loc[i]['A'],df_data.loc[i]['B'],df_data.loc[i]['C'],df_data.loc[i]['D'],df_data.loc[i]['E'])\n",
    "    if df_data['A'][i] == least:\n",
    "        df_data['closest_facility'][i] = 'A'\n",
    "    elif df_data['B'][i] == least:\n",
    "        df_data['closest_facility'][i] = 'B'\n",
    "    elif df_data['C'][i] == least:\n",
    "        df_data['closest_facility'][i] = 'C'\n",
    "    elif df_data['D'][i] == least:\n",
    "        df_data['closest_facility'][i] = 'D'\n",
    "    elif df_data['E'][i] == least:\n",
    "        df_data['closest_facility'][i] = 'E'\n",
    "\n",
    "df_data.head(10)"
   ]
  },
  {
   "cell_type": "markdown",
   "metadata": {},
   "source": [
    "Saving the dataset obtained to a .csv file."
   ]
  },
  {
   "cell_type": "code",
   "execution_count": 13,
   "metadata": {},
   "outputs": [],
   "source": [
    "df_data.to_csv('nearby_areas_data.csv')"
   ]
  },
  {
   "cell_type": "markdown",
   "metadata": {},
   "source": [
    "### Plotting classification of areas nearby"
   ]
  },
  {
   "cell_type": "markdown",
   "metadata": {},
   "source": [
    "Now that we have assigned each location a label (a class), i.e A-E, we can create a lists of the coordinates of each location availing a particular facility. These coordinates can then be used to plot a map using folium that reflects the distribution of clusters. "
   ]
  },
  {
   "cell_type": "code",
   "execution_count": 14,
   "metadata": {},
   "outputs": [],
   "source": [
    "cord_A = (df_data[df_data['closest_facility'] == 'A']['latitude'].values.tolist(),df_data[df_data['closest_facility'] == 'A']['longitude'].values.tolist())\n",
    "cord_B = (df_data[df_data['closest_facility'] == 'B']['latitude'].values.tolist(),df_data[df_data['closest_facility'] == 'B']['longitude'].values.tolist())\n",
    "cord_C = (df_data[df_data['closest_facility'] == 'C']['latitude'].values.tolist(),df_data[df_data['closest_facility'] == 'C']['longitude'].values.tolist())\n",
    "cord_D = (df_data[df_data['closest_facility'] == 'D']['latitude'].values.tolist(),df_data[df_data['closest_facility'] == 'D']['longitude'].values.tolist())\n",
    "cord_E = (df_data[df_data['closest_facility'] == 'E']['latitude'].values.tolist(),df_data[df_data['closest_facility'] == 'E']['longitude'].values.tolist())\n"
   ]
  },
  {
   "cell_type": "markdown",
   "metadata": {},
   "source": [
    "In the following map, each pointer denotes a zip code location and their colors identify what facility is close to them."
   ]
  },
  {
   "cell_type": "code",
   "execution_count": null,
   "metadata": {},
   "outputs": [],
   "source": [
    "cluster_map = folium.Map(location=[47.6062, -122.3321], zoom_start=8)\n",
    "\n",
    "for lat, lng in zip(cord_A[0], cord_A[1]):\n",
    "    folium.Marker(\n",
    "        location = [lat, lng],\n",
    "        icon=folium.Icon(color='blue')\n",
    "    ).add_to(cluster_map)\n",
    "\n",
    "for lat, lng in zip(cord_B[0], cord_B[1]):\n",
    "    folium.Marker(\n",
    "        location = [lat, lng],\n",
    "        icon=folium.Icon(color='green')\n",
    "    ).add_to(cluster_map)\n",
    "    \n",
    "for lat, lng in zip(cord_C[0], cord_C[1]):\n",
    "    folium.Marker(\n",
    "        location = [lat, lng],\n",
    "        icon=folium.Icon(color='black')\n",
    "    ).add_to(cluster_map)\n",
    "    \n",
    "for lat, lng in zip(cord_D[0], cord_D[1]):\n",
    "    folium.Marker(\n",
    "        location = [lat, lng],\n",
    "        icon=folium.Icon(color='pink')\n",
    "    ).add_to(cluster_map)\n",
    "    \n",
    "for lat, lng in zip(cord_E[0], cord_E[1]):\n",
    "    folium.Marker(\n",
    "        location = [lat, lng],\n",
    "        icon=folium.Icon(color='red')\n",
    "    ).add_to(cluster_map)\n",
    "    \n",
    "# display world map\n",
    "cluster_map"
   ]
  },
  {
   "cell_type": "markdown",
   "metadata": {},
   "source": [
    "In order to make use of the clustered data, we should sum the population of the locations that are associated with a single facility."
   ]
  },
  {
   "cell_type": "code",
   "execution_count": 15,
   "metadata": {
    "scrolled": true
   },
   "outputs": [
    {
     "data": {
      "text/plain": [
       "[86055.0, 35539.8, 9150.0, 25791.0, 497286.0]"
      ]
     },
     "execution_count": 15,
     "metadata": {},
     "output_type": "execute_result"
    }
   ],
   "source": [
    "# sum of population utlising each facility\n",
    "pop_list =[]\n",
    "pop_list.append(df_data['population_15'].where(df_data['closest_facility'] == 'A').fillna(0).sum())\n",
    "pop_list.append(df_data['population_15'].where(df_data['closest_facility'] == 'B').fillna(0).sum())\n",
    "pop_list.append(df_data['population_15'].where(df_data['closest_facility'] == 'C').fillna(0).sum())\n",
    "pop_list.append(df_data['population_15'].where(df_data['closest_facility'] == 'D').fillna(0).sum())\n",
    "pop_list.append(df_data['population_15'].where(df_data['closest_facility'] == 'E').fillna(0).sum())\n",
    "pop_list"
   ]
  },
  {
   "cell_type": "markdown",
   "metadata": {},
   "source": [
    "As given in the task, the ratio needs to be 2808 patients to 1 staff member. Therefore, let's calculate the ratios for each facility."
   ]
  },
  {
   "cell_type": "code",
   "execution_count": 16,
   "metadata": {
    "scrolled": true
   },
   "outputs": [
    {
     "data": {
      "text/html": [
       "<div>\n",
       "<style scoped>\n",
       "    .dataframe tbody tr th:only-of-type {\n",
       "        vertical-align: middle;\n",
       "    }\n",
       "\n",
       "    .dataframe tbody tr th {\n",
       "        vertical-align: top;\n",
       "    }\n",
       "\n",
       "    .dataframe thead th {\n",
       "        text-align: right;\n",
       "    }\n",
       "</style>\n",
       "<table border=\"1\" class=\"dataframe\">\n",
       "  <thead>\n",
       "    <tr style=\"text-align: right;\">\n",
       "      <th></th>\n",
       "      <th>zip</th>\n",
       "      <th>primary_city</th>\n",
       "      <th>state</th>\n",
       "      <th>latitude</th>\n",
       "      <th>longitude</th>\n",
       "      <th>staff_count</th>\n",
       "      <th>est_patients</th>\n",
       "      <th>ratio</th>\n",
       "    </tr>\n",
       "  </thead>\n",
       "  <tbody>\n",
       "    <tr>\n",
       "      <th>0</th>\n",
       "      <td>98007</td>\n",
       "      <td>Bellevue</td>\n",
       "      <td>WA</td>\n",
       "      <td>47.62</td>\n",
       "      <td>-122.14</td>\n",
       "      <td>21</td>\n",
       "      <td>86055.0</td>\n",
       "      <td>4097.857143</td>\n",
       "    </tr>\n",
       "    <tr>\n",
       "      <th>1</th>\n",
       "      <td>98290</td>\n",
       "      <td>Snohomish</td>\n",
       "      <td>WA</td>\n",
       "      <td>47.94</td>\n",
       "      <td>-122.00</td>\n",
       "      <td>52</td>\n",
       "      <td>35539.8</td>\n",
       "      <td>683.457692</td>\n",
       "    </tr>\n",
       "    <tr>\n",
       "      <th>2</th>\n",
       "      <td>98065</td>\n",
       "      <td>Snoqualmie</td>\n",
       "      <td>WA</td>\n",
       "      <td>47.53</td>\n",
       "      <td>-121.80</td>\n",
       "      <td>43</td>\n",
       "      <td>9150.0</td>\n",
       "      <td>212.790698</td>\n",
       "    </tr>\n",
       "    <tr>\n",
       "      <th>3</th>\n",
       "      <td>98801</td>\n",
       "      <td>Wenatchee</td>\n",
       "      <td>WA</td>\n",
       "      <td>47.37</td>\n",
       "      <td>-120.35</td>\n",
       "      <td>9</td>\n",
       "      <td>25791.0</td>\n",
       "      <td>2865.666667</td>\n",
       "    </tr>\n",
       "    <tr>\n",
       "      <th>4</th>\n",
       "      <td>98104</td>\n",
       "      <td>Seattle</td>\n",
       "      <td>WA</td>\n",
       "      <td>47.60</td>\n",
       "      <td>-122.32</td>\n",
       "      <td>64</td>\n",
       "      <td>497286.0</td>\n",
       "      <td>7770.093750</td>\n",
       "    </tr>\n",
       "  </tbody>\n",
       "</table>\n",
       "</div>"
      ],
      "text/plain": [
       "     zip primary_city state  latitude  longitude  staff_count  est_patients  \\\n",
       "0  98007     Bellevue    WA     47.62    -122.14           21       86055.0   \n",
       "1  98290    Snohomish    WA     47.94    -122.00           52       35539.8   \n",
       "2  98065   Snoqualmie    WA     47.53    -121.80           43        9150.0   \n",
       "3  98801    Wenatchee    WA     47.37    -120.35            9       25791.0   \n",
       "4  98104      Seattle    WA     47.60    -122.32           64      497286.0   \n",
       "\n",
       "         ratio  \n",
       "0  4097.857143  \n",
       "1   683.457692  \n",
       "2   212.790698  \n",
       "3  2865.666667  \n",
       "4  7770.093750  "
      ]
     },
     "execution_count": 16,
     "metadata": {},
     "output_type": "execute_result"
    }
   ],
   "source": [
    "df_facility['est_patients'] = pop_list\n",
    "df_facility['ratio'] = df_facility['est_patients'] /df_facility['staff_count']\n",
    "df_facility"
   ]
  },
  {
   "cell_type": "markdown",
   "metadata": {},
   "source": [
    "We can plot the staff to population graph to visualize the distribution of staff members"
   ]
  },
  {
   "cell_type": "code",
   "execution_count": 48,
   "metadata": {},
   "outputs": [
    {
     "data": {
      "text/plain": [
       "<matplotlib.collections.PathCollection at 0x7f41df3b7588>"
      ]
     },
     "execution_count": 48,
     "metadata": {},
     "output_type": "execute_result"
    },
    {
     "data": {
      "image/png": "[encoded data removed]",
      "text/plain": [
       "<Figure size 864x432 with 1 Axes>"
      ]
     },
     "metadata": {
      "needs_background": "light"
     },
     "output_type": "display_data"
    }
   ],
   "source": [
    "import matplotlib.pyplot as plt\n",
    "df_facility.sort_values(by = ['est_patients'], inplace= True)\n",
    "\n",
    "x = df_facility['est_patients'].values.tolist()\n",
    "y = df_facility['staff_count'].values.tolist()\n",
    "\n",
    "fig = plt.figure(figsize = (12,6))\n",
    "ax = fig.add_subplot(1, 1, 1)\n",
    "\n",
    "ax.scatter(x, y)"
   ]
  },
  {
   "cell_type": "markdown",
   "metadata": {},
   "source": [
    "In order to suggest the relocation of the staff members we need to develop an approach where we keep the ratio as close as possible and keep in mind the travel time duration for people living nearby.<br>\n",
    "\n",
    "The problem for travel time duration is handled when clustering the locations on basis of the minimum time it takes to travel to any facility.<br>\n",
    "\n",
    "In case the ministry is looking for relocations only, the staff allocation would be suggested as following."
   ]
  },
  {
   "cell_type": "code",
   "execution_count": 17,
   "metadata": {},
   "outputs": [],
   "source": [
    "k = pd.DataFrame()\n",
    "i = 2808\n",
    "\n",
    "while sum(round(df_facility['est_patients']/i)) >= sum(df_facility['staff_count']):\n",
    "    if sum(round(df_facility['est_patients']/i)) == sum(df_facility['staff_count'].astype(float)):\n",
    "        k = round(df_facility['est_patients']/i)    \n",
    "    i = i+10\n",
    "\n",
    "df_facility['suggested_staff_count'] = k.astype(int)"
   ]
  },
  {
   "cell_type": "code",
   "execution_count": 18,
   "metadata": {},
   "outputs": [
    {
     "data": {
      "text/html": [
       "<div>\n",
       "<style scoped>\n",
       "    .dataframe tbody tr th:only-of-type {\n",
       "        vertical-align: middle;\n",
       "    }\n",
       "\n",
       "    .dataframe tbody tr th {\n",
       "        vertical-align: top;\n",
       "    }\n",
       "\n",
       "    .dataframe thead th {\n",
       "        text-align: right;\n",
       "    }\n",
       "</style>\n",
       "<table border=\"1\" class=\"dataframe\">\n",
       "  <thead>\n",
       "    <tr style=\"text-align: right;\">\n",
       "      <th></th>\n",
       "      <th>zip</th>\n",
       "      <th>primary_city</th>\n",
       "      <th>state</th>\n",
       "      <th>latitude</th>\n",
       "      <th>longitude</th>\n",
       "      <th>staff_count</th>\n",
       "      <th>est_patients</th>\n",
       "      <th>ratio</th>\n",
       "      <th>suggested_staff_count</th>\n",
       "    </tr>\n",
       "  </thead>\n",
       "  <tbody>\n",
       "    <tr>\n",
       "      <th>0</th>\n",
       "      <td>98007</td>\n",
       "      <td>Bellevue</td>\n",
       "      <td>WA</td>\n",
       "      <td>47.62</td>\n",
       "      <td>-122.14</td>\n",
       "      <td>21</td>\n",
       "      <td>86055.0</td>\n",
       "      <td>4097.857143</td>\n",
       "      <td>25</td>\n",
       "    </tr>\n",
       "    <tr>\n",
       "      <th>1</th>\n",
       "      <td>98290</td>\n",
       "      <td>Snohomish</td>\n",
       "      <td>WA</td>\n",
       "      <td>47.94</td>\n",
       "      <td>-122.00</td>\n",
       "      <td>52</td>\n",
       "      <td>35539.8</td>\n",
       "      <td>683.457692</td>\n",
       "      <td>10</td>\n",
       "    </tr>\n",
       "    <tr>\n",
       "      <th>2</th>\n",
       "      <td>98065</td>\n",
       "      <td>Snoqualmie</td>\n",
       "      <td>WA</td>\n",
       "      <td>47.53</td>\n",
       "      <td>-121.80</td>\n",
       "      <td>43</td>\n",
       "      <td>9150.0</td>\n",
       "      <td>212.790698</td>\n",
       "      <td>3</td>\n",
       "    </tr>\n",
       "    <tr>\n",
       "      <th>3</th>\n",
       "      <td>98801</td>\n",
       "      <td>Wenatchee</td>\n",
       "      <td>WA</td>\n",
       "      <td>47.37</td>\n",
       "      <td>-120.35</td>\n",
       "      <td>9</td>\n",
       "      <td>25791.0</td>\n",
       "      <td>2865.666667</td>\n",
       "      <td>7</td>\n",
       "    </tr>\n",
       "    <tr>\n",
       "      <th>4</th>\n",
       "      <td>98104</td>\n",
       "      <td>Seattle</td>\n",
       "      <td>WA</td>\n",
       "      <td>47.60</td>\n",
       "      <td>-122.32</td>\n",
       "      <td>64</td>\n",
       "      <td>497286.0</td>\n",
       "      <td>7770.093750</td>\n",
       "      <td>144</td>\n",
       "    </tr>\n",
       "  </tbody>\n",
       "</table>\n",
       "</div>"
      ],
      "text/plain": [
       "     zip primary_city state  latitude  longitude  staff_count  est_patients  \\\n",
       "0  98007     Bellevue    WA     47.62    -122.14           21       86055.0   \n",
       "1  98290    Snohomish    WA     47.94    -122.00           52       35539.8   \n",
       "2  98065   Snoqualmie    WA     47.53    -121.80           43        9150.0   \n",
       "3  98801    Wenatchee    WA     47.37    -120.35            9       25791.0   \n",
       "4  98104      Seattle    WA     47.60    -122.32           64      497286.0   \n",
       "\n",
       "         ratio  suggested_staff_count  \n",
       "0  4097.857143                     25  \n",
       "1   683.457692                     10  \n",
       "2   212.790698                      3  \n",
       "3  2865.666667                      7  \n",
       "4  7770.093750                    144  "
      ]
     },
     "execution_count": 18,
     "metadata": {},
     "output_type": "execute_result"
    }
   ],
   "source": [
    "df_facility"
   ]
  },
  {
   "cell_type": "markdown",
   "metadata": {},
   "source": [
    "However, since the ministry is looking for upgrading and relocating staff according to the needs of the facilities, we can conclude the following table as a suitable suggestion."
   ]
  },
  {
   "cell_type": "code",
   "execution_count": 21,
   "metadata": {},
   "outputs": [
    {
     "data": {
      "text/html": [
       "<div>\n",
       "<style scoped>\n",
       "    .dataframe tbody tr th:only-of-type {\n",
       "        vertical-align: middle;\n",
       "    }\n",
       "\n",
       "    .dataframe tbody tr th {\n",
       "        vertical-align: top;\n",
       "    }\n",
       "\n",
       "    .dataframe thead th {\n",
       "        text-align: right;\n",
       "    }\n",
       "</style>\n",
       "<table border=\"1\" class=\"dataframe\">\n",
       "  <thead>\n",
       "    <tr style=\"text-align: right;\">\n",
       "      <th></th>\n",
       "      <th>zip</th>\n",
       "      <th>primary_city</th>\n",
       "      <th>state</th>\n",
       "      <th>latitude</th>\n",
       "      <th>longitude</th>\n",
       "      <th>staff_count</th>\n",
       "      <th>est_patients</th>\n",
       "      <th>ratio</th>\n",
       "      <th>suggested_staff_count</th>\n",
       "    </tr>\n",
       "  </thead>\n",
       "  <tbody>\n",
       "    <tr>\n",
       "      <th>0</th>\n",
       "      <td>98007</td>\n",
       "      <td>Bellevue</td>\n",
       "      <td>WA</td>\n",
       "      <td>47.62</td>\n",
       "      <td>-122.14</td>\n",
       "      <td>21</td>\n",
       "      <td>86055.0</td>\n",
       "      <td>4097.857143</td>\n",
       "      <td>30</td>\n",
       "    </tr>\n",
       "    <tr>\n",
       "      <th>1</th>\n",
       "      <td>98290</td>\n",
       "      <td>Snohomish</td>\n",
       "      <td>WA</td>\n",
       "      <td>47.94</td>\n",
       "      <td>-122.00</td>\n",
       "      <td>52</td>\n",
       "      <td>35539.8</td>\n",
       "      <td>683.457692</td>\n",
       "      <td>12</td>\n",
       "    </tr>\n",
       "    <tr>\n",
       "      <th>2</th>\n",
       "      <td>98065</td>\n",
       "      <td>Snoqualmie</td>\n",
       "      <td>WA</td>\n",
       "      <td>47.53</td>\n",
       "      <td>-121.80</td>\n",
       "      <td>43</td>\n",
       "      <td>9150.0</td>\n",
       "      <td>212.790698</td>\n",
       "      <td>3</td>\n",
       "    </tr>\n",
       "    <tr>\n",
       "      <th>3</th>\n",
       "      <td>98801</td>\n",
       "      <td>Wenatchee</td>\n",
       "      <td>WA</td>\n",
       "      <td>47.37</td>\n",
       "      <td>-120.35</td>\n",
       "      <td>9</td>\n",
       "      <td>25791.0</td>\n",
       "      <td>2865.666667</td>\n",
       "      <td>9</td>\n",
       "    </tr>\n",
       "    <tr>\n",
       "      <th>4</th>\n",
       "      <td>98104</td>\n",
       "      <td>Seattle</td>\n",
       "      <td>WA</td>\n",
       "      <td>47.60</td>\n",
       "      <td>-122.32</td>\n",
       "      <td>64</td>\n",
       "      <td>497286.0</td>\n",
       "      <td>7770.093750</td>\n",
       "      <td>173</td>\n",
       "    </tr>\n",
       "  </tbody>\n",
       "</table>\n",
       "</div>"
      ],
      "text/plain": [
       "     zip primary_city state  latitude  longitude  staff_count  est_patients  \\\n",
       "0  98007     Bellevue    WA     47.62    -122.14           21       86055.0   \n",
       "1  98290    Snohomish    WA     47.94    -122.00           52       35539.8   \n",
       "2  98065   Snoqualmie    WA     47.53    -121.80           43        9150.0   \n",
       "3  98801    Wenatchee    WA     47.37    -120.35            9       25791.0   \n",
       "4  98104      Seattle    WA     47.60    -122.32           64      497286.0   \n",
       "\n",
       "         ratio  suggested_staff_count  \n",
       "0  4097.857143                     30  \n",
       "1   683.457692                     12  \n",
       "2   212.790698                      3  \n",
       "3  2865.666667                      9  \n",
       "4  7770.093750                    173  "
      ]
     },
     "execution_count": 21,
     "metadata": {},
     "output_type": "execute_result"
    }
   ],
   "source": [
    "j = round(df_facility['est_patients']/2880)\n",
    "df_facility['suggested_staff_count'] = j.astype(int)\n",
    "df_facility"
   ]
  },
  {
   "cell_type": "markdown",
   "metadata": {},
   "source": [
    "-------------------------------------------------------------"
   ]
  },
  {
   "cell_type": "markdown",
   "metadata": {},
   "source": [
    "### CONCLUSION\n",
    "<br>\n",
    "In order to facilitate the population living the five cities of Washington state, we need to make slight changes to the staff counts in each facility. We will have to move staff from Snohomish, Snoqualmie and Wenatchee (overstaffed facilities) to Seattle and Bellevue (understaffed facilities).\n",
    "<br>\n",
    "This way we can maintain that people living nearby will not have to go to healthcare facilities in far off locations, just because the ones nearby are understaffed. "
   ]
  },
  {
   "cell_type": "markdown",
   "metadata": {},
   "source": []
  }
 ],
 "metadata": {
  "kernelspec": {
   "display_name": "Python",
   "language": "python",
   "name": "conda-env-python-py"
  },
  "language_info": {
   "codemirror_mode": {
    "name": "ipython",
    "version": 3
   },
   "file_extension": ".py",
   "mimetype": "text/x-python",
   "name": "python",
   "nbconvert_exporter": "python",
   "pygments_lexer": "ipython3",
   "version": "3.6.7"
  }
 },
 "nbformat": 4,
 "nbformat_minor": 4
}
